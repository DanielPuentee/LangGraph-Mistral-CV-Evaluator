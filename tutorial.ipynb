{
 "cells": [
  {
   "cell_type": "markdown",
   "metadata": {},
   "source": [
    "*Author: [Daniel Puente Viejo](https://www.linkedin.com/in/danielpuenteviejo/)*\n",
    "\n",
    "## **LangGraph + Mistral: CV Evaluator** \n",
    "\n",
    "<img src=\"imgs/tutorial_gif.gif\">   \n",
    "\n",
    "In this tutorial, we will show how to use the LangGraph and Mistral to create a simple CV evaluator. \n",
    "\n",
    "### **Index:**\n",
    "\n",
    "- <a href='#1'><ins>1 - Libraries</ins></a>\n",
    "- <a href='#2'><ins>2 - MistralAI</ins></a>\n",
    "    - <a href='#2.1'><ins>2.1 - MistralAI Configuration</ins></a>\n",
    "    - <a href='#2.2'><ins>2.2 - MistralAI Example</ins></a>\n",
    "- <a href='#3'><ins>3 - LangGraph CV Evaluation</ins></a>\n",
    "    - <a href='#3.1'><ins>3.1 - State Definition</ins></a>\n",
    "    - <a href='#3.2'><ins>3.2 - Agents</ins></a>\n",
    "        - <a href='#3.2.1'><ins>3.2.1 - Agent 1: Read CV</ins></a>\n",
    "        - <a href='#3.2.2'><ins>3.2.2 - Agent 2: Read Job Description</ins></a>\n",
    "        - <a href='#3.2.3'><ins>3.2.3 - Agent 3: Evaluate CV</ins></a>\n",
    "        - <a href='#3.2.4'><ins>3.2.4 - Agent 4: Draft Email</ins></a>\n",
    "    - <a href='#3.3'><ins>3.3 - Graph Construction</ins></a>\n",
    "    - <a href='#3.4'><ins>3.4 - Execution</ins></a>"
   ]
  },
  {
   "cell_type": "markdown",
   "metadata": {},
   "source": [
    "### <a id='1' style=\"color: skyblue;\">**1 - Libraries**</a>"
   ]
  },
  {
   "cell_type": "code",
   "execution_count": 1,
   "metadata": {},
   "outputs": [
    {
     "data": {
      "text/plain": [
       "True"
      ]
     },
     "execution_count": 1,
     "metadata": {},
     "output_type": "execute_result"
    }
   ],
   "source": [
    "from langchain_core.messages import SystemMessage, ToolMessage, AIMessage, HumanMessage\n",
    "from langchain_mistralai import ChatMistralAI\n",
    "from langgraph.graph import StateGraph, START, END\n",
    "\n",
    "from typing_extensions import TypedDict\n",
    "import os\n",
    "import uuid\n",
    "from typing import Dict\n",
    "\n",
    "from dotenv import load_dotenv\n",
    "load_dotenv()"
   ]
  },
  {
   "cell_type": "markdown",
   "metadata": {},
   "source": [
    "### <a id='2' style=\"color: skyblue;\">**2 - MistralAI**</a>\n",
    "\n",
    "Mistral will serve as the LLM engine for this guide. To begin, it's essential to understand how to set it up and use it effectively. Start by logging in to the Mistral platform and generating an API key. You can do this by visiting the following link → https://console.mistral.ai/api-keys/\n",
    "\n",
    "After logging in, you'll see a screen similar to the one below. Click on \"Create new key,\" assign a name to your key, and it will be ready for use.\n",
    "Now that you have your API key, you can integrate Mistral with LangChain to fully utilize its capabilities. To do so, you'll need to import the LangChain Mistral library, configure it with your API key, and specify the desired model and parameters."
   ]
  },
  {
   "cell_type": "markdown",
   "metadata": {},
   "source": [
    "#### <a id='2.1' style=\"color: azure;\">**2.1 - MistralAI Configuration**</a>"
   ]
  },
  {
   "cell_type": "code",
   "execution_count": 2,
   "metadata": {},
   "outputs": [],
   "source": [
    "# Configure Mistral API Key\n",
    "os.environ['MISTRAL_API_KEY'] = os.getenv('MISTRAL_API_KEY') # Something similar to: \"8ghJa1TYpX3QaVfvkLtmNz6evxMPrtOF\"\n",
    "\n",
    "# LLM Configuration\n",
    "model = \"mistral-small-latest\"\n",
    "llm = ChatMistralAI(\n",
    "    model=model,\n",
    "    temperature=0,\n",
    "    max_retries=5\n",
    ")"
   ]
  },
  {
   "cell_type": "markdown",
   "metadata": {},
   "source": [
    "#### <a id='2.2' style=\"color: azure;\">**2.2 - MistralAI Example**</a>"
   ]
  },
  {
   "cell_type": "code",
   "execution_count": 3,
   "metadata": {},
   "outputs": [
    {
     "name": "stdout",
     "output_type": "stream",
     "text": [
      "Me encanta programar.\n"
     ]
    }
   ],
   "source": [
    "# Prompts\n",
    "sys_prompt = \"You are a helpful assistant that translates English to Spanish\"\n",
    "hum_prompt = \"Translate the user sentence without giving more details just the translation: I love programming.\"\n",
    "\n",
    "# Invoke LLM\n",
    "response = llm.invoke([\n",
    "    SystemMessage(content=sys_prompt),\n",
    "    HumanMessage(content=hum_prompt)]\n",
    ").content.strip()\n",
    "\n",
    "print(response)"
   ]
  },
  {
   "cell_type": "markdown",
   "metadata": {},
   "source": [
    "### <a id='3' style=\"color: skyblue;\">**3 - Langraph CV Evaluation**</a>  \n",
    "\n",
    "In this section, we will use the LangGraph to create a simple CV evaluator. We will use the MistralAI as the LLM engine."
   ]
  },
  {
   "cell_type": "markdown",
   "metadata": {},
   "source": [
    "#### <a id='3.1' style=\"color: azure;\">**3.1 - State Definition**</a>  \n",
    "\n",
    "The first step is to define the State. The State establishes how messages are passed between agents. This structure ensures that information flows seamlessly throughout the system. Typing is crucial here, as it helps maintain clarity and consistency. In this case, we use dictionaries for their simplicity and ease of tracking."
   ]
  },
  {
   "cell_type": "code",
   "execution_count": 4,
   "metadata": {},
   "outputs": [],
   "source": [
    "# State definition\n",
    "class State(TypedDict):\n",
    "    messages: Dict"
   ]
  },
  {
   "cell_type": "markdown",
   "metadata": {},
   "source": [
    "We start by defining a simple function to read `.txt` files:"
   ]
  },
  {
   "cell_type": "code",
   "execution_count": 5,
   "metadata": {},
   "outputs": [],
   "source": [
    "# Define functions for processing\n",
    "def read_file(file_path):\n",
    "    with open(file_path, 'r') as f:\n",
    "        return f.read()"
   ]
  },
  {
   "cell_type": "markdown",
   "metadata": {},
   "source": [
    "Before diving into the code, it's important to establish the initial state (start_state) that comes into play. The start_state is defined as follows:"
   ]
  },
  {
   "cell_type": "code",
   "execution_count": 6,
   "metadata": {},
   "outputs": [],
   "source": [
    "cv_path = \"data/cv.txt\"\n",
    "job_path = \"data/job_description.txt\"\n",
    "start_state = {\"messages\": {\"cv_path\": cv_path, \"job_path\": job_path}}"
   ]
  },
  {
   "cell_type": "markdown",
   "metadata": {},
   "source": [
    "#### <a id='3.2' style=\"color: azure;\">**3.2 - Agents**</a>"
   ]
  },
  {
   "cell_type": "markdown",
   "metadata": {},
   "source": [
    "##### <a id='3.2.1' style=\"color: azure;\">**3.2.1 - Agent 1: Read CV**</a>"
   ]
  },
  {
   "cell_type": "markdown",
   "metadata": {},
   "source": [
    "The first function, `get_cv_content`, takes the `start_state` as input to begin the process. This function extracts the CV file path from the initial state, reads the file content, and updates the state with the CV content while retaining the job file path. The updated state is then passed to the next agent.   \n",
    "\n",
    "The `ToolMessage` is a standardized way to pass messages from agent to agent, using an ID, `tool_call_id`, to keep track of each message sent."
   ]
  },
  {
   "cell_type": "code",
   "execution_count": 7,
   "metadata": {},
   "outputs": [],
   "source": [
    "# Read CV\n",
    "def get_cv_content(state: dict): # The state here is -> {\"messages\": {\"cv_path\": cv_path, \"job_path\": job_path}}\n",
    "    print(\"***** get_cv_content *****\")\n",
    "\n",
    "    # Extract the CV file path from the state\n",
    "    cv_path = state['messages']['cv_path']\n",
    "    cv_content = read_file(cv_path)\n",
    "\n",
    "    # Create a ToolMessage object with the CV content and a unique tool call ID\n",
    "    tool_call = ToolMessage(\n",
    "        content=cv_content,\n",
    "        tool_call_id=str(uuid.uuid4())\n",
    "    )\n",
    "\n",
    "    # Update the state with the CV content and retain the job file path\n",
    "    new_state = {\n",
    "        \"messages\": {\n",
    "            \"job_path\": state['messages']['job_path'],\n",
    "            \"cv_content\": tool_call\n",
    "        }\n",
    "    }\n",
    "    return new_state"
   ]
  },
  {
   "cell_type": "markdown",
   "metadata": {},
   "source": [
    "#### <a id='3.2.2' style=\"color: azure;\">**3.2.2 - Agent 2: Read Job Description**</a>\n",
    "\n",
    "The order of the agents will be indicated once all agents and their tools are fully defined. However, as we have progressed, we know that after reading the CV, the logical next step is to process the job description. This sequence is essential because the updated state from `get_cv_content` provides the `cv_content` and retains the `job_path`, which the next agent, `get_job_description`, needs to accomplish its goal.   \n",
    "\n",
    "The `get_job_description` function follows a similar structure. It extracts the job description file path, reads the file content, creates a standardized message, and updates the state with both the CV and job description content for the next agent."
   ]
  },
  {
   "cell_type": "code",
   "execution_count": 8,
   "metadata": {},
   "outputs": [],
   "source": [
    "# Read Job Offer\n",
    "def get_job_description(state: dict): # The state here will be the get_cv_content result -> {\"messages\": {\"job_path\": job_path, \"cv_content\": ___}}\n",
    "    print(\"***** get_job_description *****\")\n",
    "\n",
    "    # Extract the job description file path from the state\n",
    "    job_path = state['messages']['job_path']\n",
    "\n",
    "    # Read the content of the job description file\n",
    "    job_content = read_file(job_path)\n",
    "\n",
    "    # Create a ToolMessage object with the job description content and a unique tool call ID\n",
    "    tool_call = ToolMessage(\n",
    "        content=job_content,\n",
    "        tool_call_id=str(uuid.uuid4())\n",
    "    )\n",
    "\n",
    "    # Update the state with the job description content and retain the CV content\n",
    "    new_state = {\n",
    "        \"messages\": {\n",
    "            \"cv_content\": state['messages']['cv_content'],\n",
    "            \"job_content\": tool_call\n",
    "        }\n",
    "    }\n",
    "    return new_state"
   ]
  },
  {
   "cell_type": "markdown",
   "metadata": {},
   "source": [
    "##### <a id='3.2.3' style=\"color: azure;\">**3.2.3 - Agent 3: Evaluate CV**</a> \n",
    "\n",
    "The `evaluate_match` function takes the state returned by the `get_job_description` agent and applies its own logic. The process is straightforward: it extracts the content of the CV and the job description from the state, constructs a detailed prompt, and uses it to evaluate the potential fit of the candidate for the job.  \n",
    "\n",
    "The logic involves two types of prompts: a system prompt that defines the evaluation task, and a human prompt that includes the content of the CV and job description, guiding the evaluation in a professional and detailed manner. The combined prompts are then passed to the LLM for evaluation.  \n",
    "\n",
    "Once the LLM generates a response, the result is wrapped in an `AIMessage`, which serves as a standardized way to pass AI-generated responses to the next agent. The `AIMessage` functions similarly to the `ToolMessage`, but it explicitly indicates that the content has been created by the AI."
   ]
  },
  {
   "cell_type": "code",
   "execution_count": 9,
   "metadata": {},
   "outputs": [],
   "source": [
    "# Evaluate Match\n",
    "def evaluate_match(state: dict): # The state here will be the get_job_description result -> {\"messages\": {\"cv_content\": ___, \"job_content\": ___}}\n",
    "    print(\"***** evaluate_match *****\")\n",
    "\n",
    "    # Extract the CV and job description content from the state\n",
    "    cv_content = state[\"messages\"][\"cv_content\"].content\n",
    "    job_content = state[\"messages\"][\"job_content\"].content\n",
    "\n",
    "    # Create the evaluation prompts\n",
    "    hum_evaluation_template = \"\"\"CV:\n",
    "    {cv}\n",
    "    ===\n",
    "    Job Description:\n",
    "    {job}\n",
    "    ===\n",
    "    Evaluate whether the CV aligns with the job description provided. Clearly indicate the degree of match and provide specific reasons for your assessment, ensuring a detailed and professional response:\n",
    "    \"\"\"\n",
    "    hum_evaluation_prompt = hum_evaluation_template.format(cv=cv_content, job=job_content)\n",
    "    sys_evaluation_prompt = \"\"\"You are tasked with evaluating whether the CV aligns with the job description provided. Clearly indicate the degree of match and provide specific, detailed reasons for your assessment.\"\"\"\n",
    "\n",
    "    # Invoke the LLM with the evaluation prompts\n",
    "    response = llm.invoke([SystemMessage(content=sys_evaluation_prompt),\n",
    "                           HumanMessage(content=hum_evaluation_prompt)])\n",
    "    content = response.content.strip()\n",
    "\n",
    "    # Create an AIMessage object with the evaluation response and a unique AI call ID\n",
    "    ai_call = AIMessage(\n",
    "        content=content,\n",
    "        ai_call_id=str(uuid.uuid4())\n",
    "    )\n",
    "\n",
    "    # Update the state with the evaluation response\n",
    "    new_state = {\n",
    "        \"messages\": {\n",
    "            \"evaluation\": ai_call\n",
    "        }\n",
    "    }\n",
    "    return new_state"
   ]
  },
  {
   "cell_type": "markdown",
   "metadata": {},
   "source": [
    "##### <a id='3.2.4' style=\"color: azure;\">**3.2.4 - Agent 4: Draft Email**</a>\n",
    "\n",
    "The `generate_email` agent is the final step in the workflow and follows a similar structure to the evaluate_match agent. Its purpose is to take the evaluation result produced by the previous agent, craft a well-structured prompt, and generate a draft email communicating the selection decision to the candidate."
   ]
  },
  {
   "cell_type": "code",
   "execution_count": 10,
   "metadata": {},
   "outputs": [],
   "source": [
    "# Generate Email\n",
    "def generate_email(state: dict): # The state here will be the evaluate_match result -> {\"messages\": {\"evaluation\": ___}}\n",
    "    print(\"***** generate_email *****\")\n",
    "\n",
    "    # Extract the evaluation result from the state\n",
    "    evaluation_result = state[\"messages\"][\"evaluation\"].content\n",
    "\n",
    "    # Create the email prompts\n",
    "    hum_email_template = \"\"\"Job Application Evaluation:\n",
    "    {evaluation}\n",
    "    ===\n",
    "    Based on the evaluation of the match between the candidate's CV and the job description, draft an email to the candidate communicating the result of the assessment. Clearly indicate whether or not the candidate has been selected for the position and provide the reasons for the decision. Ensure the tone is polite, professional, and respectful, starting the email with a courteous acknowledgment.\n",
    "    Email:\n",
    "    \"\"\"\n",
    "    hum_email_prompt = hum_email_template.format(evaluation=evaluation_result)\n",
    "    sys_email_prompt = \"\"\"You are a hiring manager tasked with drafting an email to a candidate regarding the result of their job application assessment. Clearly communicate whether the candidate has been selected for the position, and provide reasons for the decision. Maintain a polite, professional, and respectful tone, starting the email with a courteous acknowledgment.\"\"\"\n",
    "\n",
    "    # Invoke the LLM with the email prompts\n",
    "    response = llm.invoke([SystemMessage(content=sys_email_prompt),\n",
    "                           HumanMessage(content=hum_email_prompt)])\n",
    "    content = response.content.strip()\n",
    "\n",
    "    # Create an AIMessage object with the email content and a unique AI call ID\n",
    "    ai_call = AIMessage(\n",
    "        content=content,\n",
    "        ai_call_id=str(uuid.uuid4())\n",
    "    )\n",
    "\n",
    "    # Update the state with the email content\n",
    "    new_state = {\n",
    "        \"messages\": {\n",
    "            \"email\": ai_call\n",
    "        }\n",
    "    }\n",
    "\n",
    "    return new_state"
   ]
  },
  {
   "cell_type": "markdown",
   "metadata": {},
   "source": [
    "#### <a id='3.3' style=\"color: azure;\">**3.3 - Graph Construction**</a>\n",
    "\n",
    "Once all the agents are defined, we move on to constructing the graph. This step involves specifying each node in the workflow, defining the connections between the nodes, and creating a visual representation of the process.   \n",
    "\n",
    "To complete the workflow, we construct a StateGraph based on the State class we defined at the beginning. For the nodes, we simply add the functions we have defined, assigning each function a name to represent its corresponding agent. For the edges, we specify the connections between the agents. The first argument indicates the current agent, while the second argument points to the next one in the sequence. Finally, we compile the graph and visualize it"
   ]
  },
  {
   "cell_type": "code",
   "execution_count": 11,
   "metadata": {},
   "outputs": [
    {
     "data": {
      "image/png": "[encoded data removed]",
      "text/plain": [
       "<IPython.core.display.Image object>"
      ]
     },
     "metadata": {},
     "output_type": "display_data"
    }
   ],
   "source": [
    "# Start the Graph with the initial state\n",
    "workflow = StateGraph(State)\n",
    "\n",
    "# We add the nodes that corresponds to the functions we defined. We have to give them a name\n",
    "workflow.add_node(\"read_cv\", get_cv_content)\n",
    "workflow.add_node(\"get_job_description\", get_job_description)\n",
    "workflow.add_node(\"evaluate_match\", evaluate_match)\n",
    "workflow.add_node(\"generate_email\", generate_email)\n",
    "\n",
    "# We add the edges that connect the nodes.\n",
    "## We start from the START and indicate the next node, that in this case is \"read_cv\"\n",
    "workflow.add_edge(START, \"read_cv\")\n",
    "workflow.add_edge(\"read_cv\", \"get_job_description\")\n",
    "workflow.add_edge(\"get_job_description\", \"evaluate_match\")\n",
    "workflow.add_edge(\"evaluate_match\", \"generate_email\")\n",
    "workflow.add_edge(\"generate_email\", END)\n",
    "\n",
    "# We compile the graph\n",
    "graph = workflow.compile()\n",
    "\n",
    "# We can visualize the graph\n",
    "from IPython.display import Image, display\n",
    "display(Image(graph.get_graph().draw_mermaid_png()))"
   ]
  },
  {
   "cell_type": "markdown",
   "metadata": {},
   "source": [
    "#### <a id='3.4' style=\"color: azure;\">**3.4 - Execution**</a>\n",
    "\n",
    "Now we just need to run the graph starting with the start that we have already defined:"
   ]
  },
  {
   "cell_type": "code",
   "execution_count": 12,
   "metadata": {},
   "outputs": [
    {
     "name": "stdout",
     "output_type": "stream",
     "text": [
      "***** get_cv_content *****\n",
      "Current Output: {'read_cv': {'messages': {'job_path': 'data/job_description.txt', 'cv_content': ToolMessage(content=\"Daniel Puente Viejo\\n+34 638 097 547\\ndaniel.puenteviejo@gmail.com\\nhttps://github.com/DanielPuentee | https://www.linkedin.com/in/danielpuenteviejo | https://medium.com/@daniel.puenteviejo | https://huggingface.co/D0k-tor\\n\\n---\\n\\nPROFESSIONAL EXPERIENCE\\n\\nNTT Data\\n➢ Clients: Cepsa, Repsol, Unsere Grüne Glasfaser, RED.es, BBVA, NTT Data (Intern client)\\n\\nExternal Senior AI Engineer at Repsol; Bilbao, Spain\\n*10/2024 - Present*\\n- Led the design of Repsol's cross AI Multi-Agent platform and LLMOps platform, including LLM API Management, to support scalable generative AI applications (Azure-oriented solutions).\\n- Designed and managed the technical design of multiple Gen AI MVPs, driving innovation in all business areas.\\n\\nGenerative AI II Engineer; Bilbao, Spain\\n*05/2024 - 10/2024*\\n- Developer of a Generative AI platform on AWS, valued at €25M, for the Spanish Ministry of Digital Transformation (AWS Architecture, RAG, clause extraction, plagiarism detection...).\\n- Reduced amendment generation time by 95% by developing LLM and OCR techniques implemented in AWS.\\n\\nGenerative AI I Engineer; Bilbao, Spain\\n*09/2023 - 05/2024*\\n- Reduced time for legal information search, generation, and question answering by 90% through the creation of a RAG system using Azure Cognitive Services (Repsol's first generative AI use case).\\n- Led the improvement of executive information search time through a RAG system using Dolffia and OpenAI Whisper.\\n\\nJunior Artificial Intelligence Engineer (Intern); Bilbao, Spain\\n*09/2022 - 07/2023*\\n- Improved explainability and precision (~80%) of credit fraud detection by applying Azure ML and GNN.\\n- Encouraged learning by creating an AI initiative with over 20 current members.\\n  - Developed a contact detection algorithm for the NFL using Azure ML.\\n  - Applied diffusion algorithms for automatic image description.\\n\\nNavarra University\\nData Science Professor; Pamplona, Spain\\n*09/2023 - Present*\\n- Develop Generative AI course for BBVA Data Scientists (RAG, LLM fine-tuning, and RAG evaluation).\\n- Professor of Data Science in the Business + Data Analytics and Economics + Data Analytics double degree programmes.\\n\\nMondragon University\\n➢ Clients: BBVA, Ormazabal, Sener, Laboral Kutxa, Mondragon Corporation, Lookiero…\\n\\nStudent Data Scientist; Bilbao, Spain\\n*09/2019 - 12/2022*\\n- Achieved 0% risk of lithium-ion battery explosion by developing LSTM + GAN models.\\n- Reduced cost by 15% and improved engine design efficiency by 2% using evolutionary algorithms and RL.\\n- Developed an automatic fashion look recommendation system using graph neural networks (GNN).\\n- 42%-time reduction of Monte Carlo simulations using Recurrent Neural Networks.\\n\\n---\\n\\nEDUCATION\\n\\nMaster of Science in Artificial Intelligence - UNIR; Online\\n*10/2023 - 08/2024*\\nFinal Mark: 9,5/10 · A+ | MSc Thesis: Implementation and Evaluation of a RAG System for the Resolution of Legal Queries.\\n\\nBachelor of Science in AI & Data Analytics - Mondragon University (1º Promotion); Bilbao, Spain\\n*09/2019 - 07/2023*\\nFinal Mark: 9,0/10 · A | BSc Thesis: Simulation of a graph-based fraud detection algorithm deployed in a production Azure.\\n\\nBachelor of Science in Mathematical Sciences - Essex University; Colchester, England\\n*04/2022 - 07/2022*\\nFinal Mark: 8,6/10 · B+\\n\\n---\\n\\nLANGUAGES\\n- Spanish (Native)\\n- English (Cambridge Certificate Advanced English, C1)\\n- Basque (B2)\\n\\n---\\n\\nSKILLS\\n- Programming: Python • R • SQL\\n- AI Frameworks: Langchain • CrewAI • Ollama • Hugging Face • Pytorch\\n- Cloud: Azure • AWS • Azure AI Services • Bedrock\\n- Other utilities: Finetuning • RAG • CUDA • Git • Databricks • GNN • QLoRA\\n\\n---\\n\\nAWARDS & HONOURS\\nCertifications and Personal Projects\\n- Completed over 30 courses in AI, including Microsoft Certified: DP-100, AI-102, DP-900 & AI-900.\\n- Selected among the 5 best Bachelor Thesis out of 300 candidates in the Mondragon Corporation Awards.\\n- Selected as one of around 250 participants in the Bizkaia Talent program “attracting young talents”.\\n- Scholarship for academic excellence (2019).\\n\\n---\\n\", tool_call_id='a9d5ecca-3894-4d7a-bfc1-8561322d9515')}}}\n",
      "***** get_job_description *****\n",
      "Current Output: {'get_job_description': {'messages': {'cv_content': ToolMessage(content=\"Daniel Puente Viejo\\n+34 638 097 547\\ndaniel.puenteviejo@gmail.com\\nhttps://github.com/DanielPuentee | https://www.linkedin.com/in/danielpuenteviejo | https://medium.com/@daniel.puenteviejo | https://huggingface.co/D0k-tor\\n\\n---\\n\\nPROFESSIONAL EXPERIENCE\\n\\nNTT Data\\n➢ Clients: Cepsa, Repsol, Unsere Grüne Glasfaser, RED.es, BBVA, NTT Data (Intern client)\\n\\nExternal Senior AI Engineer at Repsol; Bilbao, Spain\\n*10/2024 - Present*\\n- Led the design of Repsol's cross AI Multi-Agent platform and LLMOps platform, including LLM API Management, to support scalable generative AI applications (Azure-oriented solutions).\\n- Designed and managed the technical design of multiple Gen AI MVPs, driving innovation in all business areas.\\n\\nGenerative AI II Engineer; Bilbao, Spain\\n*05/2024 - 10/2024*\\n- Developer of a Generative AI platform on AWS, valued at €25M, for the Spanish Ministry of Digital Transformation (AWS Architecture, RAG, clause extraction, plagiarism detection...).\\n- Reduced amendment generation time by 95% by developing LLM and OCR techniques implemented in AWS.\\n\\nGenerative AI I Engineer; Bilbao, Spain\\n*09/2023 - 05/2024*\\n- Reduced time for legal information search, generation, and question answering by 90% through the creation of a RAG system using Azure Cognitive Services (Repsol's first generative AI use case).\\n- Led the improvement of executive information search time through a RAG system using Dolffia and OpenAI Whisper.\\n\\nJunior Artificial Intelligence Engineer (Intern); Bilbao, Spain\\n*09/2022 - 07/2023*\\n- Improved explainability and precision (~80%) of credit fraud detection by applying Azure ML and GNN.\\n- Encouraged learning by creating an AI initiative with over 20 current members.\\n  - Developed a contact detection algorithm for the NFL using Azure ML.\\n  - Applied diffusion algorithms for automatic image description.\\n\\nNavarra University\\nData Science Professor; Pamplona, Spain\\n*09/2023 - Present*\\n- Develop Generative AI course for BBVA Data Scientists (RAG, LLM fine-tuning, and RAG evaluation).\\n- Professor of Data Science in the Business + Data Analytics and Economics + Data Analytics double degree programmes.\\n\\nMondragon University\\n➢ Clients: BBVA, Ormazabal, Sener, Laboral Kutxa, Mondragon Corporation, Lookiero…\\n\\nStudent Data Scientist; Bilbao, Spain\\n*09/2019 - 12/2022*\\n- Achieved 0% risk of lithium-ion battery explosion by developing LSTM + GAN models.\\n- Reduced cost by 15% and improved engine design efficiency by 2% using evolutionary algorithms and RL.\\n- Developed an automatic fashion look recommendation system using graph neural networks (GNN).\\n- 42%-time reduction of Monte Carlo simulations using Recurrent Neural Networks.\\n\\n---\\n\\nEDUCATION\\n\\nMaster of Science in Artificial Intelligence - UNIR; Online\\n*10/2023 - 08/2024*\\nFinal Mark: 9,5/10 · A+ | MSc Thesis: Implementation and Evaluation of a RAG System for the Resolution of Legal Queries.\\n\\nBachelor of Science in AI & Data Analytics - Mondragon University (1º Promotion); Bilbao, Spain\\n*09/2019 - 07/2023*\\nFinal Mark: 9,0/10 · A | BSc Thesis: Simulation of a graph-based fraud detection algorithm deployed in a production Azure.\\n\\nBachelor of Science in Mathematical Sciences - Essex University; Colchester, England\\n*04/2022 - 07/2022*\\nFinal Mark: 8,6/10 · B+\\n\\n---\\n\\nLANGUAGES\\n- Spanish (Native)\\n- English (Cambridge Certificate Advanced English, C1)\\n- Basque (B2)\\n\\n---\\n\\nSKILLS\\n- Programming: Python • R • SQL\\n- AI Frameworks: Langchain • CrewAI • Ollama • Hugging Face • Pytorch\\n- Cloud: Azure • AWS • Azure AI Services • Bedrock\\n- Other utilities: Finetuning • RAG • CUDA • Git • Databricks • GNN • QLoRA\\n\\n---\\n\\nAWARDS & HONOURS\\nCertifications and Personal Projects\\n- Completed over 30 courses in AI, including Microsoft Certified: DP-100, AI-102, DP-900 & AI-900.\\n- Selected among the 5 best Bachelor Thesis out of 300 candidates in the Mondragon Corporation Awards.\\n- Selected as one of around 250 participants in the Bizkaia Talent program “attracting young talents”.\\n- Scholarship for academic excellence (2019).\\n\\n---\\n\", tool_call_id='a9d5ecca-3894-4d7a-bfc1-8561322d9515'), 'job_content': ToolMessage(content=\"MAIgents' Web Intelligence team develops cutting-edge AI-powered services that improve user experiences across MAIgents Search and MAIgents Navigator. Our mission is to deliver innovative solutions that save time, provide valuable insights, and drive user satisfaction in a secure online environment.\\n\\n**MAIgents Shop** is a dynamic platform that brings together products from various sellers, offering users a streamlined shopping experience. Through advanced AI technologies, MAIgents Shop delivers accurate search results, personalized recommendations, and valuable product insights like reviews and price trends.\\n\\nWe are looking for a **Data & Applied Scientist II** to join our team and contribute to the development of algorithms, models, and insights that enhance our search and shopping capabilities. If you’re passionate about data and innovation, this is your opportunity to make a global impact.\\n\\n**Responsibilities**\\n- Design and optimize algorithms to improve search results and recommendations.\\n- Analyze large datasets to identify trends and build predictive models.\\n- Collaborate with engineers and product managers to enhance platform performance.\\n- Conduct experiments and A/B tests to evaluate and refine algorithms.\\n- Present insights and recommendations to stakeholders.\\n\\n**Qualifications**\\n- Bachelor’s degree in a related field and experience in data science or machine learning.\\n- Proficiency in Python; familiarity with SQL and other tools is a plus.\\n- Strong problem-solving skills and ability to work in a team-oriented environment.\\n- Knowledge of A/B testing and recommendation systems is preferred.\\n\\nJoin MAIgents and shape the future of online shopping!\\n\", tool_call_id='d71aaf9e-4dfc-4b35-9d0c-6a4341c5aa62')}}}\n",
      "***** evaluate_match *****\n",
      "Current Output: {'evaluate_match': {'messages': {'evaluation': AIMessage(content=\"### Degree of Match: High\\n\\n### Reasons for Assessment:\\n\\n#### Professional Experience:\\n1. **Generative AI and Machine Learning Expertise**:\\n   - Daniel Puente Viejo has extensive experience in generative AI and machine learning, which is directly relevant to the role of Data & Applied Scientist II at MAIgents. His roles at NTT Data, particularly as an External Senior AI Engineer and Generative AI II Engineer, demonstrate his ability to design and optimize AI platforms and models.\\n\\n2. **Algorithm and Model Development**:\\n   - He has led the development of multiple generative AI MVPs and reduced time for legal information search and generation by 90% through the creation of a RAG system. This aligns well with the responsibility of designing and optimizing algorithms to improve search results and recommendations.\\n\\n3. **Data Analysis and Predictive Modeling**:\\n   - His experience in analyzing large datasets and building predictive models, such as reducing amendment generation time by 95% through LLM and OCR techniques, shows his capability to identify trends and build predictive models.\\n\\n4. **Collaboration and Stakeholder Communication**:\\n   - He has collaborated with various clients and internal teams, demonstrating his ability to work in a team-oriented environment and present insights to stakeholders.\\n\\n#### Education:\\n1. **Relevant Degrees**:\\n   - Daniel holds a Master of Science in Artificial Intelligence and a Bachelor of Science in AI & Data Analytics, which aligns well with the requirement of a Bachelor’s degree in a related field.\\n\\n2. **Advanced Skills**:\\n   - His Master’s thesis on the implementation and evaluation of a RAG system for the resolution of legal queries further demonstrates his deep understanding of AI and data science.\\n\\n#### Skills:\\n1. **Programming Languages**:\\n   - Proficient in Python, which is a key requirement for the role.\\n\\n2. **AI Frameworks and Tools**:\\n   - Familiar with various AI frameworks and tools such as Langchain, Hugging Face, and Pytorch, which are relevant for developing AI-powered services.\\n\\n3. **Cloud and Other Utilities**:\\n   - Experience with cloud platforms like Azure and AWS, which can be beneficial for handling large datasets and deploying models.\\n\\n4. **A/B Testing and Recommendation Systems**:\\n   - His experience with A/B testing and recommendation systems, such as developing a fashion look recommendation system using GNN, aligns well with the preferred qualifications.\\n\\n#### Languages:\\n- Fluent in Spanish and English, which is beneficial for communication in a global team environment.\\n\\n#### Awards & Honours:\\n- Completed over 30 courses in AI and holds multiple certifications, demonstrating a strong commitment to continuous learning and professional development.\\n\\n### Conclusion:\\nDaniel Puente Viejo's CV aligns very well with the job description for the Data & Applied Scientist II role at MAIgents. His extensive experience in generative AI, machine learning, and data analysis, coupled with his relevant educational background and skills, make him a strong candidate for the position. His ability to design and optimize algorithms, analyze large datasets, and collaborate effectively with teams further supports his suitability for the role.\", additional_kwargs={}, response_metadata={}, ai_call_id='9acf487b-b52e-4587-ae65-1304dc98fc9f')}}}\n",
      "***** generate_email *****\n",
      "Current Output: {'generate_email': {'messages': {'email': AIMessage(content='Subject: Result of Your Application for Data & Applied Scientist II at MAIgents\\n\\nDear Daniel Puente Viejo,\\n\\nI hope this email finds you well. I am writing to update you on the status of your application for the Data & Applied Scientist II position at MAIgents.\\n\\nWe are pleased to inform you that, after a thorough review of your application and assessment of your qualifications, we have decided to move forward with your candidacy. Your extensive experience in generative AI and machine learning, coupled with your strong educational background and relevant skills, make you an excellent fit for this role.\\n\\nHere are some of the key reasons why your application stood out:\\n\\n1. **Professional Experience**: Your roles at NTT Data, particularly as an External Senior AI Engineer and Generative AI II Engineer, demonstrate your ability to design and optimize AI platforms and models. Your leadership in developing multiple generative AI MVPs and reducing time for legal information search and generation by 90% through the creation of a RAG system aligns well with the responsibilities of the role.\\n\\n2. **Education**: Your Master of Science in Artificial Intelligence and Bachelor of Science in AI & Data Analytics, along with your Master’s thesis on the implementation and evaluation of a RAG system, showcase your deep understanding of AI and data science.\\n\\n3. **Skills**: Your proficiency in Python and familiarity with AI frameworks and tools such as Langchain, Hugging Face, and Pytorch are highly relevant for developing AI-powered services. Additionally, your experience with cloud platforms like Azure and AWS, as well as your work with A/B testing and recommendation systems, align well with the preferred qualifications.\\n\\n4. **Collaboration and Communication**: Your ability to collaborate with various clients and internal teams, and present insights to stakeholders, demonstrates your capability to work effectively in a team-oriented environment.\\n\\n5. **Languages**: Your fluency in Spanish and English is beneficial for communication in a global team environment.\\n\\nWe are excited about the potential you bring to our team and look forward to discussing the next steps in the hiring process with you. Please expect to hear from us soon regarding scheduling an interview.\\n\\nThank you once again for your interest in MAIgents. We are confident that your skills and experience will make a significant contribution to our team.\\n\\nBest regards,\\n\\n[Your Name]\\n[Your Position]\\nMAIgents', additional_kwargs={}, response_metadata={}, ai_call_id='057e1cca-02c5-471d-b670-b905d653d7b4')}}}\n",
      "\n",
      "***** Process completed successfully!! *****\n",
      "\n",
      "Subject: Result of Your Application for Data & Applied Scientist II at MAIgents\n",
      "\n",
      "Dear Daniel Puente Viejo,\n",
      "\n",
      "I hope this email finds you well. I am writing to update you on the status of your application for the Data & Applied Scientist II position at MAIgents.\n",
      "\n",
      "We are pleased to inform you that, after a thorough review of your application and assessment of your qualifications, we have decided to move forward with your candidacy. Your extensive experience in generative AI and machine learning, coupled with your strong educational background and relevant skills, make you an excellent fit for this role.\n",
      "\n",
      "Here are some of the key reasons why your application stood out:\n",
      "\n",
      "1. **Professional Experience**: Your roles at NTT Data, particularly as an External Senior AI Engineer and Generative AI II Engineer, demonstrate your ability to design and optimize AI platforms and models. Your leadership in developing multiple generative AI MVPs and reducing time for legal information search and generation by 90% through the creation of a RAG system aligns well with the responsibilities of the role.\n",
      "\n",
      "2. **Education**: Your Master of Science in Artificial Intelligence and Bachelor of Science in AI & Data Analytics, along with your Master’s thesis on the implementation and evaluation of a RAG system, showcase your deep understanding of AI and data science.\n",
      "\n",
      "3. **Skills**: Your proficiency in Python and familiarity with AI frameworks and tools such as Langchain, Hugging Face, and Pytorch are highly relevant for developing AI-powered services. Additionally, your experience with cloud platforms like Azure and AWS, as well as your work with A/B testing and recommendation systems, align well with the preferred qualifications.\n",
      "\n",
      "4. **Collaboration and Communication**: Your ability to collaborate with various clients and internal teams, and present insights to stakeholders, demonstrates your capability to work effectively in a team-oriented environment.\n",
      "\n",
      "5. **Languages**: Your fluency in Spanish and English is beneficial for communication in a global team environment.\n",
      "\n",
      "We are excited about the potential you bring to our team and look forward to discussing the next steps in the hiring process with you. Please expect to hear from us soon regarding scheduling an interview.\n",
      "\n",
      "Thank you once again for your interest in MAIgents. We are confident that your skills and experience will make a significant contribution to our team.\n",
      "\n",
      "Best regards,\n",
      "\n",
      "[Your Name]\n",
      "[Your Position]\n",
      "MAIgents\n"
     ]
    }
   ],
   "source": [
    "# Iterate over the graph\n",
    "for output in graph.stream(start_state):\n",
    "    print(\"Current Output:\", output)\n",
    "\n",
    "print(\"\\n***** Process completed successfully!! *****\\n\")\n",
    "print(output['generate_email']['messages']['email'].content)"
   ]
  }
 ],
 "metadata": {
  "colab": {
   "provenance": []
  },
  "kernelspec": {
   "display_name": "MCrew",
   "language": "python",
   "name": "python3"
  },
  "language_info": {
   "codemirror_mode": {
    "name": "ipython",
    "version": 3
   },
   "file_extension": ".py",
   "mimetype": "text/x-python",
   "name": "python",
   "nbconvert_exporter": "python",
   "pygments_lexer": "ipython3",
   "version": "3.10.15"
  }
 },
 "nbformat": 4,
 "nbformat_minor": 0
}
