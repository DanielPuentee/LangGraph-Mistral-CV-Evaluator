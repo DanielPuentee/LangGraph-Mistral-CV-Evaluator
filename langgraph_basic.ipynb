{
 "cells": [
  {
   "cell_type": "code",
   "execution_count": 48,
   "metadata": {},
   "outputs": [
    {
     "data": {
      "text/plain": [
       "'Me encanta programar.'"
      ]
     },
     "execution_count": 48,
     "metadata": {},
     "output_type": "execute_result"
    }
   ],
   "source": [
    "from langchain_core.messages import SystemMessage, ToolMessage, AIMessage, HumanMessage\n",
    "from langchain_mistralai import ChatMistralAI\n",
    "from langgraph.graph import StateGraph, START, END\n",
    "from langgraph.checkpoint.memory import MemorySaver\n",
    "from typing_extensions import TypedDict\n",
    "import os\n",
    "import uuid\n",
    "from typing import Dict\n",
    "\n",
    "from dotenv import load_dotenv\n",
    "load_dotenv()\n",
    "\n",
    "# Configure Mistral API Key\n",
    "os.environ['MISTRAL_API_KEY'] = os.getenv('MISTRAL_API_KEY')\n",
    "\n",
    "# LLM Configuration\n",
    "llm = ChatMistralAI(\n",
    "    model=\"mistral-small-latest\",\n",
    "    temperature=0,\n",
    "    max_retries=3\n",
    ")\n",
    "\n",
    "# # Prompts\n",
    "# sys_prompt = \"You are a helpful assistant that translates English to Spanish\"\n",
    "# hum_prompt = \"Translate the user sentence without giving more details just the translation: I love programming.\"\n",
    "\n",
    "# # Invoke LLM\n",
    "# response = llm.invoke([\n",
    "#     SystemMessage(content=sys_prompt),\n",
    "#     HumanMessage(content=hum_prompt)]\n",
    "# ).content.strip()\n",
    "\n",
    "# print(response)"
   ]
  },
  {
   "cell_type": "code",
   "execution_count": 11,
   "metadata": {},
   "outputs": [],
   "source": [
    "# State definition\n",
    "class State(TypedDict):\n",
    "    messages: Dict"
   ]
  },
  {
   "cell_type": "code",
   "execution_count": 12,
   "metadata": {},
   "outputs": [],
   "source": [
    "# Define functions for processing\n",
    "def read_file(file_path):\n",
    "    with open(file_path, 'r') as f:\n",
    "        return f.read()"
   ]
  },
  {
   "cell_type": "code",
   "execution_count": 40,
   "metadata": {},
   "outputs": [],
   "source": [
    "def get_cv_content(state):\n",
    "    print(\"***** get_cv_content *****\")\n",
    "\n",
    "    cv_path = state['messages']['cv_path']\n",
    "    cv_content = read_file(cv_path)\n",
    "\n",
    "    tool_call = ToolMessage(\n",
    "        content=cv_content,\n",
    "        tool_call_id=str(uuid.uuid4())\n",
    "    )\n",
    "    new_state = {\n",
    "        \"messages\": {\n",
    "            \"job_path\": state['messages']['job_path'],\n",
    "            \"cv_content\": tool_call\n",
    "        }\n",
    "    }\n",
    "    return new_state\n",
    "\n",
    "def get_job_description(state):\n",
    "    print(\"***** get_job_description *****\")\n",
    "\n",
    "    job_path = state['messages']['job_path']\n",
    "    job_content = read_file(job_path)\n",
    "\n",
    "    tool_call = ToolMessage(\n",
    "        content=job_content,\n",
    "        tool_call_id=str(uuid.uuid4())\n",
    "    )\n",
    "    new_state = {\n",
    "        \"messages\": {\n",
    "            \"cv_content\": state['messages']['cv_content'],\n",
    "            \"job_content\": tool_call\n",
    "        }\n",
    "    }\n",
    "    return new_state\n",
    "\n",
    "def evaluate_match(state):\n",
    "    print(\"***** evaluate_match *****\")\n",
    "\n",
    "    cv_content = state[\"messages\"][\"cv_content\"].content\n",
    "    job_description = state[\"messages\"][\"job_content\"].content\n",
    "\n",
    "    hum_evaluation_template = \"\"\"CV:\n",
    "    {cv}\n",
    "    ===\n",
    "    Job Description:\n",
    "    {job}\n",
    "    ===\n",
    "    Evaluate whether the CV aligns with the job description provided. Clearly indicate the degree of match and provide specific reasons for your assessment, ensuring a detailed and professional response:\n",
    "    \"\"\"\n",
    "    hum_evaluation_prompt = hum_evaluation_template.format(cv=cv_content, job=job_description)\n",
    "    sys_evaluation_prompt = \"\"\"You are tasked with evaluating whether the CV aligns with the job description provided. Clearly indicate the degree of match and provide specific, detailed reasons for your assessment.\"\"\"\n",
    "\n",
    "    # Ensure that only the text content is passed to the AIMessage\n",
    "    response = llm.invoke([SystemMessage(content=sys_evaluation_prompt), HumanMessage(content=hum_evaluation_prompt)])\n",
    "    content = response.content.strip()\n",
    "    ai_call = AIMessage(\n",
    "        content=content,\n",
    "        ai_call_id=str(uuid.uuid4())\n",
    "    )\n",
    "\n",
    "    new_state = {\n",
    "        \"messages\": {\n",
    "            \"evaluation\": ai_call\n",
    "        }\n",
    "    }\n",
    "    return new_state\n",
    "\n",
    "\n",
    "def generate_email(state):\n",
    "    print(\"***** generate_email *****\")\n",
    "\n",
    "    evaluation_result = state[\"messages\"][\"evaluation\"].content\n",
    "\n",
    "    hum_email_template = \"\"\"Job Application Evaluation:\n",
    "    {evaluation}\n",
    "    ===\n",
    "    Based on the evaluation of the match between the candidate's CV and the job description, draft an email to the candidate communicating the result of the assessment. Clearly indicate whether or not the candidate has been selected for the position and provide the reasons for the decision. Ensure the tone is polite, professional, and respectful, starting the email with a courteous acknowledgment.\n",
    "    Email:\n",
    "    \"\"\"\n",
    "    hum_email_prompt = hum_email_template.format(evaluation=evaluation_result)\n",
    "    sys_email_prompt = \"\"\"You are a hiring manager tasked with drafting an email to a candidate regarding the result of their job application assessment. Clearly communicate whether the candidate has been selected for the position, and provide reasons for the decision. Maintain a polite, professional, and respectful tone, starting the email with a courteous acknowledgment.\"\"\"\n",
    "\n",
    "    response = llm.invoke([SystemMessage(content=sys_email_prompt), HumanMessage(content=hum_email_prompt)])\n",
    "    content = response.content.strip()\n",
    "    ai_call = AIMessage(\n",
    "        content=content,\n",
    "        ai_call_id=str(uuid.uuid4())\n",
    "    )\n",
    "\n",
    "    new_state = {\n",
    "        \"messages\": {\n",
    "            \"email\": ai_call\n",
    "        }\n",
    "    }\n",
    "\n",
    "    return new_state"
   ]
  },
  {
   "cell_type": "code",
   "execution_count": 41,
   "metadata": {},
   "outputs": [
    {
     "data": {
      "image/png": "[encoded data removed]",
      "text/plain": [
       "<IPython.core.display.Image object>"
      ]
     },
     "metadata": {},
     "output_type": "display_data"
    }
   ],
   "source": [
    "memory = MemorySaver()\n",
    "workflow = StateGraph(State)\n",
    "\n",
    "workflow.add_node(\"read_cv\", get_cv_content)\n",
    "workflow.add_node(\"get_job_description\", get_job_description)\n",
    "workflow.add_node(\"evaluate_match\", evaluate_match)\n",
    "workflow.add_node(\"generate_email\", generate_email)\n",
    "\n",
    "workflow.add_edge(START, \"read_cv\")\n",
    "workflow.add_edge(\"read_cv\", \"get_job_description\")\n",
    "workflow.add_edge(\"get_job_description\", \"evaluate_match\")\n",
    "workflow.add_edge(\"evaluate_match\", \"generate_email\")\n",
    "workflow.add_edge(\"generate_email\", END)\n",
    "\n",
    "graph = workflow.compile()\n",
    "\n",
    "from IPython.display import Image, display\n",
    "display(Image(graph.get_graph().draw_mermaid_png()))"
   ]
  },
  {
   "cell_type": "code",
   "execution_count": 42,
   "metadata": {},
   "outputs": [],
   "source": [
    "def main(cv_path, job_path):\n",
    "    state = {\"messages\": {\"cv_path\": cv_path, \"job_path\": job_path}}\n",
    "\n",
    "    config = {\n",
    "        \"configurable\": {\n",
    "            \"thread_id\": str(uuid.uuid4()),\n",
    "            \"checkpoint_ns\": \"default_ns\",\n",
    "            \"checkpoint_id\": str(uuid.uuid4()),\n",
    "        }\n",
    "    }\n",
    "\n",
    "    output = None\n",
    "    for output in graph.stream(state, config=config, stream_mode=\"updates\"):\n",
    "        print(\"Current Output:\", output)\n",
    "\n",
    "    return output"
   ]
  },
  {
   "cell_type": "code",
   "execution_count": 43,
   "metadata": {},
   "outputs": [
    {
     "name": "stdout",
     "output_type": "stream",
     "text": [
      "***** get_cv_content *****\n",
      "Current Output: {'read_cv': {'messages': {'job_path': 'data/job_description.txt', 'cv_content': ToolMessage(content=\"Daniel Puente Viejo\\n+34 638 097 547\\ndaniel.puenteviejo@gmail.com\\nCertifications and personal projects\\n•\\nSelected among the 5 best Bachelor Thesis out of 300 candidates in the Mondragon Corporation Awards.\\n•\\nSelected as one of around 250 participants in the Bizkaia Talent program “attracting young talents”.\\n•\\nAzure Certified with more than 30 courses and certifications done in AI (x3 Microsoft Certified)\\n•\\nScholarship for academic excellence (2019).\\nhttps://github.com/DanielPuentee\\nhttps://www.linkedin.com/in/danielpuenteviejo\\nhttps://medium.com/@daniel.puenteviejo\\nhttps://huggingface.co/D0k-tor\\nPROFESSIONAL EXPERIENCE\\nNTT Data\\n➢\\nClients: Cepsa, Repsol, Unsere Grüne Glasfaser, RED.es, BBVA, NTT Data (Intern client)\\nExternal Senior AI Engineer at Repsol; Bilbao, Spain 10/2024 - Present\\n•\\nLed the design of Repsol's cross AI Multi-Agent platform and LLMOps platform, including LLM API Management, to support scalable generative AI applications.\\n•\\nDesigned and managed the technical design of approximately 20 Gen AI MVPs, driving innovation in all business areas.\\nGenerative AI II Engineer; Bilbao, Spain 05/2024 - 10/2024\\n•\\nDeveloper of a Generative AI platform on AWS, valued at €25M, for the Spanish Ministry of Digital Transformation (AWS Architecture, RAG, clause extraction, plagiarism detection...).\\n•\\nReduced amendment generation time by 95% by developing LLM and OCR techniques implemented in AWS.\\nGenerative AI I Engineer; Bilbao, Spain 09/2023 - 05/2024\\n•\\nReduced time for legal information search, generation, and question answering by 90% through the creation of a RAG system using Azure Cognitive Services (Repsol's first generative AI use case).\\n•\\nLed the improvement of executive information search time through a RAG system using Dolffia and OpenAI Whisper.\\nJunior Artificial Intelligence Engineer; Bilbao, Spain 09/2022 - 07/2023\\n•\\nImproved explainability and precision (~80%) of credit fraud detection by applying Azure ML and GNN.\\n•\\nEncouraged learning by creating an AI initiative with over 20 current members. Project examples:\\n▪\\nDeveloped a contact detection algorithm for the NFL using Azure ML.\\n▪\\nApplied diffusion algorithms for automatic image description.\\nNavarra University\\nProfessor at Economics & Business School; Pamplona, Spain 09/2023 - Present\\n•\\nDevelop Generative AI course for BBVA Data Scientists (RAG, LLM fine-tuning and RAG evaluation).\\n•\\nProfessor of Data Science in the Business + Data Analytics and Economics + Data Analytics double degree programmes.\\nMondragon University\\n➢\\nClients: BBVA, Ormazabal, Sener, Laboral Kutxa, Mondragon Corporation, Lookiero…\\nStudent Data Scientist; Bilbao, Spain 09/2019 - 12/2022\\n•\\nAchieved 0% risk of lithium-ion battery explosion by developing LSTM + GAN models.\\n•\\nReduced cost by 15% and improved engine design efficiency by 2% using evolutionary algorithms and RL.\\n•\\nDeveloped an automatic fashion look recommendation system using graph neural networks (GNN).\\n•\\n42%-time reduction of Monte Carlo simulations using Recurrent Neural Networks.\\nEDUCATION\\nMaster of Science (MSc) in Artificial Intelligence - UNIR; Online 10/2023 - 08/2024\\nFinal Mark: 9,5/10 · A+ | MSc Thesis: Implementation and Evaluation of a RAG System for the Resolution of Legal Queries.\\nBachelor of Science (BSc) in Business Data Analytics - Mondragon University; Bilbao, Spain 09/2019 - 07/2023\\nFinal Mark: 9,0/10 · A | BSc Thesis: Simulation of a graph-based fraud detection algorithm deployed in a production Azure.\\nBachelor of Science (BSc) in Mathematical Sciences - Essex University; Colchester, England 04/2022 - 07/2022\\nFinal Mark: 8,6/10 · B+\\nLanguages: Spanish (Native) | English (Cambridge Certificate Advanced English, C1) | Basque (B2)\\nSKILLS\\nProgramming: Python • R • SQL AI Frameworks: Langchain • CrewAI • Ollama • Hugging Face • Pytorch\\nCloud: Azure • AWS • Azure AI Services • Bedrock Other utilities: Finetuning • RAG • CUDA • Git • Databricks • GNN • QLoRA\\nAWARDS & HONOURS\\n\", tool_call_id='e8d784f9-d587-4d77-babc-29c50351dd34')}}}\n",
      "***** get_job_description *****\n",
      "Current Output: {'get_job_description': {'messages': {'cv_content': ToolMessage(content=\"Daniel Puente Viejo\\n+34 638 097 547\\ndaniel.puenteviejo@gmail.com\\nCertifications and personal projects\\n•\\nSelected among the 5 best Bachelor Thesis out of 300 candidates in the Mondragon Corporation Awards.\\n•\\nSelected as one of around 250 participants in the Bizkaia Talent program “attracting young talents”.\\n•\\nAzure Certified with more than 30 courses and certifications done in AI (x3 Microsoft Certified)\\n•\\nScholarship for academic excellence (2019).\\nhttps://github.com/DanielPuentee\\nhttps://www.linkedin.com/in/danielpuenteviejo\\nhttps://medium.com/@daniel.puenteviejo\\nhttps://huggingface.co/D0k-tor\\nPROFESSIONAL EXPERIENCE\\nNTT Data\\n➢\\nClients: Cepsa, Repsol, Unsere Grüne Glasfaser, RED.es, BBVA, NTT Data (Intern client)\\nExternal Senior AI Engineer at Repsol; Bilbao, Spain 10/2024 - Present\\n•\\nLed the design of Repsol's cross AI Multi-Agent platform and LLMOps platform, including LLM API Management, to support scalable generative AI applications.\\n•\\nDesigned and managed the technical design of approximately 20 Gen AI MVPs, driving innovation in all business areas.\\nGenerative AI II Engineer; Bilbao, Spain 05/2024 - 10/2024\\n•\\nDeveloper of a Generative AI platform on AWS, valued at €25M, for the Spanish Ministry of Digital Transformation (AWS Architecture, RAG, clause extraction, plagiarism detection...).\\n•\\nReduced amendment generation time by 95% by developing LLM and OCR techniques implemented in AWS.\\nGenerative AI I Engineer; Bilbao, Spain 09/2023 - 05/2024\\n•\\nReduced time for legal information search, generation, and question answering by 90% through the creation of a RAG system using Azure Cognitive Services (Repsol's first generative AI use case).\\n•\\nLed the improvement of executive information search time through a RAG system using Dolffia and OpenAI Whisper.\\nJunior Artificial Intelligence Engineer; Bilbao, Spain 09/2022 - 07/2023\\n•\\nImproved explainability and precision (~80%) of credit fraud detection by applying Azure ML and GNN.\\n•\\nEncouraged learning by creating an AI initiative with over 20 current members. Project examples:\\n▪\\nDeveloped a contact detection algorithm for the NFL using Azure ML.\\n▪\\nApplied diffusion algorithms for automatic image description.\\nNavarra University\\nProfessor at Economics & Business School; Pamplona, Spain 09/2023 - Present\\n•\\nDevelop Generative AI course for BBVA Data Scientists (RAG, LLM fine-tuning and RAG evaluation).\\n•\\nProfessor of Data Science in the Business + Data Analytics and Economics + Data Analytics double degree programmes.\\nMondragon University\\n➢\\nClients: BBVA, Ormazabal, Sener, Laboral Kutxa, Mondragon Corporation, Lookiero…\\nStudent Data Scientist; Bilbao, Spain 09/2019 - 12/2022\\n•\\nAchieved 0% risk of lithium-ion battery explosion by developing LSTM + GAN models.\\n•\\nReduced cost by 15% and improved engine design efficiency by 2% using evolutionary algorithms and RL.\\n•\\nDeveloped an automatic fashion look recommendation system using graph neural networks (GNN).\\n•\\n42%-time reduction of Monte Carlo simulations using Recurrent Neural Networks.\\nEDUCATION\\nMaster of Science (MSc) in Artificial Intelligence - UNIR; Online 10/2023 - 08/2024\\nFinal Mark: 9,5/10 · A+ | MSc Thesis: Implementation and Evaluation of a RAG System for the Resolution of Legal Queries.\\nBachelor of Science (BSc) in Business Data Analytics - Mondragon University; Bilbao, Spain 09/2019 - 07/2023\\nFinal Mark: 9,0/10 · A | BSc Thesis: Simulation of a graph-based fraud detection algorithm deployed in a production Azure.\\nBachelor of Science (BSc) in Mathematical Sciences - Essex University; Colchester, England 04/2022 - 07/2022\\nFinal Mark: 8,6/10 · B+\\nLanguages: Spanish (Native) | English (Cambridge Certificate Advanced English, C1) | Basque (B2)\\nSKILLS\\nProgramming: Python • R • SQL AI Frameworks: Langchain • CrewAI • Ollama • Hugging Face • Pytorch\\nCloud: Azure • AWS • Azure AI Services • Bedrock Other utilities: Finetuning • RAG • CUDA • Git • Databricks • GNN • QLoRA\\nAWARDS & HONOURS\\n\", tool_call_id='e8d784f9-d587-4d77-babc-29c50351dd34'), 'job_content': ToolMessage(content=\"Research Internships at Microsoft provide a dynamic environment for research careers with a network of world-class research labs led by globally-recognized scientists and engineers, who pursue innovation in a range of scientific and technical disciplines to help solve complex challenges in diverse fields, including computing, healthcare, economics, and the environment.\\n\\nGray Systems Lab (GSL) is an applied research lab under Azure Data. We do research and development for databases, big-data, and cloud systems and work in close collaboration with product teams to design innovative solutions for real-world problems. Our inclusive and welcoming team currently has focus areas in topics such as query optimization and execution, large and small language models, agents and agentic workflows, machine learning for systems, systems for machine learning, data science, resource management, storage systems, modern/future hardware (e.g. Non-volatile memory (NVM) and field-programmable gate arrays (FPGAs)), program analysis, cross system optimization, and data provenance, all centered around both internal and open-source systems such as Spark, Structured Query Language (SQL) Server, MySQL, Hadoop, MLFlow, Open Neural Network Exchange (ONNX), and others. There are opportunities to work on ideas from internal, as well as external, collaborations with partner universities and to continue to be an active scholar in the research community.\\n\\nThe GSL team is looking for Research Interns who are interested in cutting edge research in close collaboration with advanced industry product groups. Past Research Internships have resulted in a combination of impact on production systems and publications at top conferences. Applicants should demonstrate a track record in one or more systems or data science topics and an aptitude for hands-on system building and design methodology to run and analyze experiments at scale.\\n\\nMicrosoft’s mission is to empower every person and every organization on the planet to achieve more. As employees we come together with a growth mindset, innovate to empower others, and collaborate to realize our shared goals. Each day we build on our values of respect, integrity, and accountability to create a culture of inclusion where everyone can thrive at work and beyond. We are open to all individuals and thrive on an inclusive environment and work culture. Neurodivergent individuals are encouraged to apply.\\n\\nResponsibilities\\n\\nResearch Interns put inquiry and theory into practice. Alongside fellow doctoral candidates and some of the world’s best researchers, Research Interns learn, collaborate, and network for life. Research Interns not only advance their own careers, but they also contribute to exciting research and development strides. During the 12-week internship, Research Interns are paired with mentors and expected to collaborate with other Research Interns and researchers, present findings, and contribute to the vibrant life of the community. Research internships are available in all areas of research, and are offered year-round, though they typically begin in the summer.\\n\\nQualifications\\n\\nRequired/Minimum Qualifications:\\n\\nCurrently enrolled in a PhD or master's program in Computer Science, Statistics, Mathematics, or related STEM field.\\nYou must be legally authorised to work in Spain to be eligible for this role. (Legally authorised = Has citizenship or has been granted a valid visa or work permit)\\n\\nOther Requirements:\\n\\nResearch Interns are expected to be physically located in their manager’s Microsoft worksite location for the duration of their internship.\\nIn addition to the qualifications below, you’ll need to submit a minimum of two reference letters for this position as well as a cover letter and any relevant work or research samples. After you submit your application, a request for letters may be sent to your list of references on your behalf. Note that reference letters cannot be requested until after you have submitted your application, and furthermore, that they might not be automatically requested for all candidates. You may wish to alert your letter writers in advance, so they will be ready to submit your letter.\\n\\nPreferred/Additional Qualifications\\n\\nExperience with one of the following PostgreSQL, MySQL, SQL Server, Spark, or other databases or big data systems.\\nExperience contributing to research communities and/or efforts, including publishing papers (being listed as author) at academic conferences.\\nExperience with one or more general purpose programming languages such as Python, Java, C#, C++.\\nTakes initiative, but also follows a research/productization plan and work well as part of a team.\\nProficient critical thinking and communication skills.\\n\\nMicrosoft is an equal opportunity employer. Consistent with applicable law, all qualified applicants will receive consideration for employment without regard to age, ancestry, citizenship, color, family or medical care leave, gender identity or expression, genetic information, immigration status, marital status, medical condition, national origin, physical or mental disability, political affiliation, protected veteran or military status, race, ethnicity, religion, sex (including pregnancy), sexual orientation, or any other characteristic protected by applicable local laws, regulations and ordinances. If you need assistance and/or a reasonable accommodation due to a disability during the application process, read more about requesting accommodations.\\n\", tool_call_id='496459e8-8eef-4f7c-91ae-73c207e1d0c4')}}}\n",
      "***** evaluate_match *****\n",
      "Current Output: {'evaluate_match': {'messages': {'evaluation': AIMessage(content=\"### Degree of Match: High\\n\\n### Reasons for Assessment:\\n\\n#### Education:\\n- **CV:** Daniel Puente Viejo is currently pursuing a Master of Science (MSc) in Artificial Intelligence at UNIR, with a final mark of 9.5/10. He also holds a Bachelor of Science (BSc) in Business Data Analytics from Mondragon University and a BSc in Mathematical Sciences from Essex University.\\n- **Job Description:** The job requires candidates to be currently enrolled in a PhD or master's program in Computer Science, Statistics, Mathematics, or related STEM fields. Daniel's MSc in Artificial Intelligence aligns well with this requirement.\\n\\n#### Experience:\\n- **CV:** Daniel has extensive experience in AI engineering roles at NTT Data, working with clients such as Repsol, Cepsa, and BBVA. He has led the design of AI platforms, developed generative AI systems, and improved various business processes using AI techniques.\\n- **Job Description:** The job involves research and development for databases, big data, and cloud systems, with a focus on AI and machine learning. Daniel's experience in designing AI platforms and developing generative AI systems aligns well with these requirements.\\n\\n#### Skills:\\n- **CV:** Daniel has proficiency in programming languages such as Python, R, and SQL. He is also experienced with AI frameworks like Langchain, CrewAI, Ollama, Hugging Face, and PyTorch. Additionally, he has experience with cloud platforms Azure and AWS.\\n- **Job Description:** The job requires experience with general-purpose programming languages and databases or big data systems. Daniel's skills in Python, R, SQL, and his experience with Azure and AWS align well with these requirements.\\n\\n#### Certifications and Projects:\\n- **CV:** Daniel has multiple certifications in AI and has been recognized for his academic and professional achievements, including being selected among the top 5 Bachelor Thesis candidates in the Mondragon Corporation Awards.\\n- **Job Description:** While not explicitly required, Daniel's certifications and awards demonstrate his commitment to excellence and continuous learning, which are valuable qualities for a research intern.\\n\\n#### Responsibilities and Qualifications:\\n- **CV:** Daniel has experience in leading projects, collaborating with teams, and presenting findings, which are all skills required for a research internship.\\n- **Job Description:** The job requires research interns to collaborate with teams, present findings, and contribute to the research community. Daniel's experience in leading projects and collaborating with teams aligns well with these responsibilities.\\n\\n#### Additional Qualifications:\\n- **CV:** Daniel has demonstrated initiative by creating an AI initiative with over 20 current members and developing various projects, such as a contact detection algorithm for the NFL and automatic image description using diffusion algorithms.\\n- **Job Description:** The job prefers candidates who take initiative and work well as part of a team. Daniel's experience in leading projects and initiatives aligns well with this preference.\\n\\n### Conclusion:\\nDaniel Puente Viejo's CV aligns well with the job description for the Research Internship at Microsoft's Gray Systems Lab. His educational background, experience in AI engineering, relevant skills, and demonstrated initiative make him a strong candidate for the role. The high degree of match suggests that Daniel's application should be given serious consideration.\", additional_kwargs={}, response_metadata={}, ai_call_id='4f8cf958-68e0-48e4-b9ef-c02a4e523b47')}}}\n",
      "***** generate_email *****\n",
      "Current Output: {'generate_email': {'messages': {'email': AIMessage(content=\"Subject: Result of Your Application for the Research Internship at Microsoft's Gray Systems Lab\\n\\nDear Daniel Puente Viejo,\\n\\nI hope this email finds you well. I am writing to update you on the status of your application for the Research Internship at Microsoft's Gray Systems Lab.\\n\\nWe have thoroughly reviewed your CV and are pleased to inform you that your application has been highly regarded. Your educational background, particularly your Master of Science in Artificial Intelligence from UNIR, aligns exceptionally well with the requirements of our program. Your extensive experience in AI engineering roles at NTT Data, coupled with your proficiency in programming languages such as Python, R, and SQL, as well as your experience with AI frameworks and cloud platforms, demonstrates a strong fit for the role.\\n\\nAdditionally, your certifications, academic achievements, and the initiative you have shown in leading projects and developing innovative solutions, such as the AI initiative and various projects like the contact detection algorithm for the NFL, are highly commendable. These qualities align well with the responsibilities and qualifications we seek in a research intern.\\n\\nGiven the high degree of match between your qualifications and our requirements, we are pleased to offer you the position of Research Intern at Microsoft's Gray Systems Lab. We believe that your skills and experiences will make a significant contribution to our team.\\n\\nPlease let us know if you have any questions or need further information. We look forward to the possibility of welcoming you to our team.\\n\\nBest regards,\\n\\n[Your Name]\\n[Your Position]\\nMicrosoft's Gray Systems Lab\", additional_kwargs={}, response_metadata={}, ai_call_id='8ec6e74c-68ca-41a0-96ff-50c5046d5aa8')}}}\n"
     ]
    }
   ],
   "source": [
    "cv_path = \"data/cv.txt\"\n",
    "job_path = \"data/job_description.txt\"\n",
    "\n",
    "output = main(cv_path, job_path)"
   ]
  },
  {
   "cell_type": "code",
   "execution_count": 44,
   "metadata": {},
   "outputs": [
    {
     "name": "stdout",
     "output_type": "stream",
     "text": [
      "Subject: Result of Your Application for the Research Internship at Microsoft's Gray Systems Lab\n",
      "\n",
      "Dear Daniel Puente Viejo,\n",
      "\n",
      "I hope this email finds you well. I am writing to update you on the status of your application for the Research Internship at Microsoft's Gray Systems Lab.\n",
      "\n",
      "We have thoroughly reviewed your CV and are pleased to inform you that your application has been highly regarded. Your educational background, particularly your Master of Science in Artificial Intelligence from UNIR, aligns exceptionally well with the requirements of our program. Your extensive experience in AI engineering roles at NTT Data, coupled with your proficiency in programming languages such as Python, R, and SQL, as well as your experience with AI frameworks and cloud platforms, demonstrates a strong fit for the role.\n",
      "\n",
      "Additionally, your certifications, academic achievements, and the initiative you have shown in leading projects and developing innovative solutions, such as the AI initiative and various projects like the contact detection algorithm for the NFL, are highly commendable. These qualities align well with the responsibilities and qualifications we seek in a research intern.\n",
      "\n",
      "Given the high degree of match between your qualifications and our requirements, we are pleased to offer you the position of Research Intern at Microsoft's Gray Systems Lab. We believe that your skills and experiences will make a significant contribution to our team.\n",
      "\n",
      "Please let us know if you have any questions or need further information. We look forward to the possibility of welcoming you to our team.\n",
      "\n",
      "Best regards,\n",
      "\n",
      "[Your Name]\n",
      "[Your Position]\n",
      "Microsoft's Gray Systems Lab\n"
     ]
    }
   ],
   "source": [
    "print(output['generate_email']['messages']['email'].content)"
   ]
  }
 ],
 "metadata": {
  "colab": {
   "provenance": []
  },
  "kernelspec": {
   "display_name": "MCrew",
   "language": "python",
   "name": "python3"
  },
  "language_info": {
   "codemirror_mode": {
    "name": "ipython",
    "version": 3
   },
   "file_extension": ".py",
   "mimetype": "text/x-python",
   "name": "python",
   "nbconvert_exporter": "python",
   "pygments_lexer": "ipython3",
   "version": "3.10.15"
  }
 },
 "nbformat": 4,
 "nbformat_minor": 0
}
